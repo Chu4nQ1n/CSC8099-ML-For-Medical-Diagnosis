{
 "cells": [
  {
   "cell_type": "code",
   "execution_count": 1,
   "id": "4342287f-f80f-4afe-9e33-137449ac5466",
   "metadata": {},
   "outputs": [],
   "source": [
    "import numpy as np\n",
    "import cv2\n",
    "import os"
   ]
  },
  {
   "cell_type": "code",
   "execution_count": 2,
   "id": "448e5261-7912-450e-959b-dac08016ee5a",
   "metadata": {},
   "outputs": [],
   "source": [
    "img_h, img_w = 299, 299\n",
    "means, std = [], []\n",
    "img_list = []\n",
    "\n",
    "imgs_path = \"C:\\\\Users\\\\playc\\\\final_project\\\\All\"\n",
    "imgs_path_list = os.listdir(imgs_path)"
   ]
  },
  {
   "cell_type": "code",
   "execution_count": null,
   "id": "68bbaabd-3007-47c5-9089-7d6bc5b988fc",
   "metadata": {},
   "outputs": [
    {
     "name": "stdout",
     "output_type": "stream",
     "text": [
      "1000 / 4000\n",
      "2000 / 4000\n",
      "3000 / 4000\n",
      "4000 / 4000\n"
     ]
    }
   ],
   "source": [
    "len_ = len(imgs_path_list)\n",
    "i = 0\n",
    "for item in imgs_path_list:\n",
    "    img = cv2.imread(os.path.join(imgs_path,item))\n",
    "    img = cv2.resize(img,(img_w, img_h))\n",
    "    img = img[:, :, :, np.newaxis]\n",
    "    img_list.append(img)\n",
    "    i += 1\n",
    "    if(i % 1000 == 0):\n",
    "        print(i, \"/\", len_)\n",
    "\n",
    "imgs = np.concatenate(img_list, axis=3)\n",
    "imgs = imgs.astype(np.float32) / 255."
   ]
  },
  {
   "cell_type": "code",
   "execution_count": 4,
   "id": "0fa6d8ae-4898-46b9-89f0-7ee2c6875777",
   "metadata": {},
   "outputs": [
    {
     "name": "stdout",
     "output_type": "stream",
     "text": [
      "normMean = [0.50723207, 0.50723207, 0.50723207]\n",
      "normStd = [0.24546494, 0.24546494, 0.24546494]\n"
     ]
    }
   ],
   "source": [
    "for i in range(3):\n",
    "    pixels = imgs[:, :, i, :].ravel()\n",
    "    means.append(np.mean(pixels))\n",
    "    std.append(np.std(pixels))\n",
    "\n",
    "means.reverse()\n",
    "std.reverse()\n",
    "\n",
    "print(\"normMean = {}\".format(means))\n",
    "print(\"normStd = {}\".format(std))"
   ]
  }
 ],
 "metadata": {
  "kernelspec": {
   "display_name": "Python 3 (ipykernel)",
   "language": "python",
   "name": "python3"
  },
  "language_info": {
   "codemirror_mode": {
    "name": "ipython",
    "version": 3
   },
   "file_extension": ".py",
   "mimetype": "text/x-python",
   "name": "python",
   "nbconvert_exporter": "python",
   "pygments_lexer": "ipython3",
   "version": "3.9.12"
  }
 },
 "nbformat": 4,
 "nbformat_minor": 5
}
